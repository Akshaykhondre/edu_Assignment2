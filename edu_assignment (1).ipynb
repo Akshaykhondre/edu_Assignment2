{
  "nbformat": 4,
  "nbformat_minor": 0,
  "metadata": {
    "colab": {
      "provenance": []
    },
    "kernelspec": {
      "name": "python3",
      "display_name": "Python 3"
    },
    "language_info": {
      "name": "python"
    }
  },
  "cells": [
    {
      "cell_type": "code",
      "execution_count": null,
      "metadata": {
        "id": "fCHOYTWwyobT"
      },
      "outputs": [],
      "source": []
    },
    {
      "cell_type": "markdown",
      "source": [
        "Problem: OOPs\n",
        "Go step by step:\n",
        "Create a class named (Car)\n",
        "Call constructor\n",
        "Create 3 attributes under that (name, price, colour)\n",
        "Create 3 functions - 1. sound 2. speed 3. display (to display 1 and 2 fuctions)\n",
        "Create a child class named (Thar) and inherite Car\n",
        "Create two objects under that child class and access the functions for them."
      ],
      "metadata": {
        "id": "f25KEHH1ythP"
      }
    },
    {
      "cell_type": "code",
      "source": [
        "\n",
        "class Car:\n",
        "    def __init__(self, name, price, colour):\n",
        "        self.name = name\n",
        "        self.price = price\n",
        "        self.colour = colour\n",
        "\n",
        "    def sound(self):\n",
        "        print(\"The car with sound.\")\n",
        "\n",
        "    def speed(self):\n",
        "        print(\"The car with top speed of 200 km/h.\")\n",
        "\n",
        "    def display(self):\n",
        "        print(f\"Name: {self.name}\")\n",
        "        print(f\"Price: {self.price}\")\n",
        "        print(f\"Colour: {self.colour}\")\n",
        "\n",
        "\n",
        "class Thar(Car):\n",
        "    pass\n",
        "\n",
        "\n",
        "car1 = Thar(\"Mahindra Thar\", 1500000, \"Red\")\n",
        "car2 = Thar(\"Mahindra Thar Adventure\", 1700000, \"White\")\n",
        "\n",
        "car1.sound()\n",
        "car1.speed()\n",
        "car1.display()\n",
        "\n",
        "car2.sound()\n",
        "car2.speed()\n",
        "car2.display()\n"
      ],
      "metadata": {
        "colab": {
          "base_uri": "https://localhost:8080/"
        },
        "id": "-3YzQLgQyvSz",
        "outputId": "0328a909-5486-437c-ddb7-b42a3b0622ff"
      },
      "execution_count": 1,
      "outputs": [
        {
          "output_type": "stream",
          "name": "stdout",
          "text": [
            "The car with sound.\n",
            "The car with top speed of 200 km/h.\n",
            "Name: Mahindra Thar\n",
            "Price: 1500000\n",
            "Colour: Red\n",
            "The car with sound.\n",
            "The car with top speed of 200 km/h.\n",
            "Name: Mahindra Thar Adventure\n",
            "Price: 1700000\n",
            "Colour: White\n"
          ]
        }
      ]
    },
    {
      "cell_type": "code",
      "source": [],
      "metadata": {
        "id": "wQV8uYNlyv8S"
      },
      "execution_count": null,
      "outputs": []
    },
    {
      "cell_type": "code",
      "source": [],
      "metadata": {
        "id": "jFUsvBwpyv_p"
      },
      "execution_count": null,
      "outputs": []
    },
    {
      "cell_type": "markdown",
      "source": [
        "Problem: Try and Except\n",
        "Create an Except where we can catch all the “zero division error” (you can customize your print statements ).\n"
      ],
      "metadata": {
        "id": "9NJEDiepzX7t"
      }
    },
    {
      "cell_type": "code",
      "source": [
        "try:\n",
        "    numerator = 10\n",
        "    denominator = 0\n",
        "    result = numerator / denominator\n",
        "    print(\"The result is:\", result)\n",
        "except ZeroDivisionError:\n",
        "    print(\"Error: Division by zero is not allowed!\")\n",
        "    print(\"Please provide a non-zero denominator.\")\n"
      ],
      "metadata": {
        "colab": {
          "base_uri": "https://localhost:8080/"
        },
        "id": "36lg5tEvzcco",
        "outputId": "e3a9fbb5-7029-46ed-b1d1-5bc27228963f"
      },
      "execution_count": 2,
      "outputs": [
        {
          "output_type": "stream",
          "name": "stdout",
          "text": [
            "Error: Division by zero is not allowed!\n",
            "Please provide a non-zero denominator.\n"
          ]
        }
      ]
    },
    {
      "cell_type": "code",
      "source": [],
      "metadata": {
        "id": "jh_i9uSXzcgK"
      },
      "execution_count": null,
      "outputs": []
    }
  ]
}